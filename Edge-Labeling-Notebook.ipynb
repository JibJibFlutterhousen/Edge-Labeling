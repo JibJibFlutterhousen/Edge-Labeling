{
 "cells": [
  {
   "cell_type": "code",
   "execution_count": 2,
   "id": "f1149edf",
   "metadata": {},
   "outputs": [],
   "source": [
    "import networkx as nx\n",
    "import matplotlib.pyplot as plt"
   ]
  },
  {
   "cell_type": "code",
   "execution_count": 5,
   "id": "b9f8fc81",
   "metadata": {},
   "outputs": [
    {
     "data": {
      "image/png": "[encoded data removed]",
      "text/plain": [
       "<Figure size 640x480 with 1 Axes>"
      ]
     },
     "metadata": {},
     "output_type": "display_data"
    }
   ],
   "source": [
    "test_graph = nx.windmill_graph(2,4)\n",
    "nx.draw_kamada_kawai(test_graph, with_labels=True, font_color=\"black\", edge_color=\"silver\", node_color=\"silver\")\n",
    "plt.show()"
   ]
  },
  {
   "cell_type": "code",
   "execution_count": 7,
   "id": "bb705031",
   "metadata": {},
   "outputs": [
    {
     "name": "stdout",
     "output_type": "stream",
     "text": [
      "hello world\n"
     ]
    }
   ],
   "source": [
    "def print_with(value, passed_function):\n",
    "    passed_function(value)\n",
    "    \n",
    "print_with(\"hello world\", print)"
   ]
  },
  {
   "cell_type": "code",
   "execution_count": 65,
   "id": "c28599c3",
   "metadata": {},
   "outputs": [
    {
     "name": "stdout",
     "output_type": "stream",
     "text": [
      "node data now\n",
      "0 {}\n",
      "1 {}\n",
      "2 {}\n",
      "3 {}\n",
      "4 {}\n",
      "5 {}\n",
      "6 {}\n",
      "0 {'value': 2}\n",
      "1 {'value': 3}\n",
      "2 {'value': 4}\n",
      "3 {'value': 5}\n",
      "4 {'value': 6}\n",
      "5 {'value': 7}\n",
      "6 {'value': 8}\n",
      "0 {'value': 0}\n",
      "1 {'value': 1}\n",
      "2 {'value': 2}\n",
      "3 {'value': 3}\n",
      "4 {'value': 4}\n",
      "5 {'value': 5}\n",
      "6 {'value': 6}\n",
      "\n",
      "edge data now\n",
      "(0, 1, {})\n",
      "(0, 2, {})\n",
      "(0, 3, {})\n",
      "(0, 4, {})\n",
      "(0, 5, {})\n",
      "(0, 6, {})\n",
      "(1, 2, {})\n",
      "(1, 3, {})\n",
      "(2, 3, {})\n",
      "(4, 5, {})\n",
      "(4, 6, {})\n",
      "(5, 6, {})\n",
      "(0, 1, {'value': 1})\n",
      "(0, 2, {'value': 2})\n",
      "(0, 3, {'value': 3})\n",
      "(0, 4, {'value': 4})\n",
      "(0, 5, {'value': 5})\n",
      "(0, 6, {'value': 6})\n",
      "(1, 2, {'value': 3})\n",
      "(1, 3, {'value': 4})\n",
      "(2, 3, {'value': 5})\n",
      "(4, 5, {'value': 1})\n",
      "(4, 6, {'value': 2})\n",
      "(5, 6, {'value': 3})\n",
      "6\n"
     ]
    }
   ],
   "source": [
    "def addition_mod_8(element_1, element_2):\n",
    "    return (element_1 + element_2) % 8\n",
    "\n",
    "def relabel_nodes(graph, label_dictionary):\n",
    "    for key,value in label_dictionary.items():\n",
    "        graph.nodes[key][\"value\"] = value\n",
    "\n",
    "def calculate_edge_labels(graph, combine_function):\n",
    "    edge_values = {edge:combine_function(graph.nodes[edge[0]][\"value\"], graph.nodes[edge[1]][\"value\"]) for edge in graph.edges()}\n",
    "    for key,value in edge_values.items():\n",
    "        graph.edges[key[0],key[1]].update({\"value\": value})\n",
    "        \n",
    "def number_repeated_edge_labels(graph):\n",
    "    return graph.number_of_edges() - len(set(graph.edges[edge[0],edge[1]][\"value\"] for edge in graph.edges()))\n",
    "    \n",
    "test_graph = nx.windmill_graph(2,4)\n",
    "\n",
    "print(\"node data now\")\n",
    "for node in test_graph.nodes:\n",
    "    print(node, test_graph.nodes[node])\n",
    "    \n",
    "relabel_nodes(test_graph, {n:n+2 for n in range(test_graph.number_of_nodes())})\n",
    "    \n",
    "for node in test_graph.nodes:\n",
    "    print(node, test_graph.nodes[node])\n",
    "    \n",
    "relabel_nodes(test_graph, {n:n for n in range(test_graph.number_of_nodes())})\n",
    "    \n",
    "for node in test_graph.nodes:\n",
    "    print(node, test_graph.nodes[node])\n",
    "    \n",
    "print(\"\\nedge data now\")\n",
    "for edge_data in test_graph.edges.data():\n",
    "    print(edge_data)\n",
    "    \n",
    "calculate_edge_labels(test_graph, addition_mod_8)\n",
    "\n",
    "for edge_data in test_graph.edges.data():\n",
    "    print(edge_data)\n",
    "    \n",
    "print(number_repeated_edge_labels(test_graph))"
   ]
  },
  {
   "cell_type": "code",
   "execution_count": 46,
   "id": "be65b8b2",
   "metadata": {},
   "outputs": [
    {
     "name": "stdout",
     "output_type": "stream",
     "text": [
      "{(0, 1): 2.0, (1, 2): 2.0}\n",
      "[(0, 1, {'betweenness': 2.0}), (1, 2, {'betweenness': 2.0})]\n"
     ]
    }
   ],
   "source": [
    "G = nx.path_graph(3)\n",
    "\n",
    "bb = nx.edge_betweenness_centrality(G, normalized=False)\n",
    "\n",
    "print(bb)\n",
    "\n",
    "nx.set_edge_attributes(G, bb, \"betweenness\")\n",
    "\n",
    "G.edges[1, 2][\"betweenness\"]\n",
    "\n",
    "print(G.edges.data())"
   ]
  }
 ],
 "metadata": {
  "kernelspec": {
   "display_name": "Python 3 (ipykernel)",
   "language": "python",
   "name": "python3"
  },
  "language_info": {
   "codemirror_mode": {
    "name": "ipython",
    "version": 3
   },
   "file_extension": ".py",
   "mimetype": "text/x-python",
   "name": "python",
   "nbconvert_exporter": "python",
   "pygments_lexer": "ipython3",
   "version": "3.10.11"
  }
 },
 "nbformat": 4,
 "nbformat_minor": 5
}
